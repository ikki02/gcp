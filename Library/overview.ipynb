{
 "cells": [
  {
   "cell_type": "markdown",
   "metadata": {},
   "source": [
    "## Contents\n",
    "1. 操作方法\n",
    "1. IAM\n",
    "1. Services\n",
    " - まとめ\n",
    " - Compute\n",
    " - Storage\n",
    " - Big Data \n",
    " - Machine Learning\n",
    " - deployment\n",
    " - AppEngine"
   ]
  },
  {
   "cell_type": "markdown",
   "metadata": {},
   "source": [
    "## 1. 操作方法"
   ]
  },
  {
   "cell_type": "markdown",
   "metadata": {},
   "source": [
    "GCPを扱う際には、4つの方法がある。\n",
    "1. [Cloud Console](https://cloud.google.com/cloud-console/)  \n",
    "GUI　ダッシュボードで必要なサービスを利用できる。\n",
    " - [Cloud Launcher](https://console.cloud.google.com/marketplace?_ga=2.209968467.-733779035.1537282830)  \n",
    " 必要なサービスを手早くデプロイできる。料金はかかる。\n",
    "1. SDKとCloud Shell\n",
    " - gcloud: gcpの主要なコマンドラインインターフェース\n",
    " - gsutil: storage用のコマンドラインインターフェース\n",
    " - bq: BigQuery用のコマンドラインインターフェース\n",
    "1. [API](https://cloud.google.com/apis/)\n",
    " - API Explorer: Cloud ConsoleからどんなAPIがどのバーションで使えるか学ぶことができる。\n",
    " - Cloud Client Libraries: Google Cloudの推奨ライブラリ。基本的にオープンソースではない。\n",
    " - Google API Client Libraries: オープンソースで多様な言語に対応。\n",
    "1. [mobile APP](https://cloud.google.com/console-app/)"
   ]
  },
  {
   "cell_type": "markdown",
   "metadata": {},
   "source": [
    "## 2. IAM\n",
    "権限管理のツール  \n",
    "Org(anization) Nodeをトップに、ポリシーと権限を割り振る事で、下位のNodeはその設定を継承して行く。\n",
    "\n",
    "### ResourceHierarchy\n",
    "Projectを基盤としてResource(VMやStrorage)を規定できる。\n",
    "\n",
    "|||\n",
    "|:-:|:-:|\n",
    "|Project ID|Globally unique, Chosen by you, Immutable|\n",
    "|Project Name|Need not be unique, Chosen by you, Mutable|\n",
    "|Project Number|Globally unique, GCP assign, Immutable|\n",
    "\n",
    "\n",
    "![ResourceHierarchy.png](../photo/ResourceHierarchy.png)\n",
    "![AdministratorRoles.png](../photo/AdministratorRoles.png)"
   ]
  },
  {
   "cell_type": "markdown",
   "metadata": {},
   "source": [
    "### GCEに対する権限\n",
    "#### 最小権限モデル\n",
    "各ユーザーは業務に必要な最小限の権限を持つべき、という考え方。以下、権限の例。\n",
    "- InstanceAdmin: インスタンスに対するrwx周りのフルコントロールと考えて良い。\n",
    "- Custom: 権限を個別に設定された役割。あるカスタムは読む権限があるだろうし、他のカスタムはインスタンスを再構築することができるだろう。\n",
    "\n",
    "#### サービスアカウント\n",
    "ユーザー毎に権限を付与する方式に対して、サービスアカウントはインスタンス毎に権限を設定できる。"
   ]
  },
  {
   "cell_type": "markdown",
   "metadata": {},
   "source": [
    "## 3. Services\n",
    "\n",
    "![Overview_GCP.png](../photo/Overview_GCP.png)\n",
    "\n",
    "- 地理区分：Multi-Region > Region > Zone"
   ]
  },
  {
   "cell_type": "markdown",
   "metadata": {},
   "source": [
    "### まとめ\n",
    "GCPはマネージドからダイナミックまで連続性のあるインフラストラクチャ。\n",
    "![summary.png](../photo/summary.png)\n",
    "- Compute Engine: アプリケーションをGoogleインフラストラクチャ上の仮想マシンにデプロイする場合\n",
    "- Kubernetes Engine: アプリケーションをGoogleインフラストラクチャ上のコンテナでデプロイする場合\n",
    "- App Engineフレキシブル環境: あらゆるランタイム(≒プログラミング言語)が利用できる。\n",
    "- App Engineスタンダード環境: 標準的なランタイムから選択し、細かなスケーリングやスケール可能なAziraを利用できる。\n",
    "- Cloud Functions: インフラストラクチャの管理とアプリケーションの構築や拡張の手間が一切かけずに、ビジネスロジックのコードを設定するだけで、イベント発生時にオンデマンドでコードが生成される。  \n",
    "\n",
    "GCPではさまざまな方法でインバウンドトラフィックの負荷分散が可能。\n",
    "![loadbalance.png](../photo/loadbalance.png)\n",
    "- グローバルHTTP(S)負荷分散: 単一のエニーキャストアドレスのウェブアプリケーションをインターネット全体につなげる場合。世界各地のさまざまなバックエンドインスタンス間で負荷が分散され、GCPのコンテンツ配信ネットワークと統合されている。\n",
    "- TCP/SSLプロキシ: トラフィックがHTTPやHTTPSでなければ、多数のポートトラフィックに対して使用できる。\n",
    "- リージョナルロードバランサ: その他のポートやUDPトラフィックに適している。\n",
    "- 内部ロードバランサ: 多階層アプリケーションの内部階層の負荷分散に適している。"
   ]
  },
  {
   "cell_type": "markdown",
   "metadata": {},
   "source": [
    "## 3.1.1 [Compute Engine](https://cloud.google.com/compute/docs/)  \n",
    "仮想マシンをGoogleのグローバルインフラストラクチャで実行する。\n",
    "- ワークロード(ウェブ系、DB、レンダリング、etc)を考える。\n",
    "- 調査の結果、35%のクラウドが無駄に使われている(過剰にスペック設定してしまった)。使ってないコアがあれば提案してくれる上、コスト再計算もしてくれる\n",
    "- 柔軟な計算資源（auto scaling）\n",
    "- managed instance group: インスタンスをオートスケールさせる管理ツール\n",
    "- ディスクのスナップショット（バックアップ、別リージョンへの移行）\n",
    "- Memory Optimized VM: 最大3.8TB\n",
    "- 単一テナントノード(Solo tenancy): コンプラが厳しい顧客向け。まもなく東京リージョンで開始予定。\n",
    "- Docker on GCE: アプリやAPI用のコンテナ管理を実現する。コストはコンテナの容量だけで済むため経済的\n",
    "- preemptible VM(クバネテスで管理): 24時間限定でコスト8割引のVM。  \n",
    "Compute Engineのリソースが別の場所で必要な場合Compute Engineに終了する権限を付与するVM）"
   ]
  },
  {
   "cell_type": "markdown",
   "metadata": {},
   "source": [
    "## 3.1.2 [VPC](https://cloud.google.com/vpc/docs/how-to)  \n",
    "Vertual Private Cloudの略。  \n",
    "- ファイアウォール：受信/送信トラフィックのアクセス制御\n",
    "- VPC Peering：異なるプロジェクト間のトラフィックを交換する。\n",
    "- 共有VPC：1つのプロジェクト内でVPCと相互接続できるユーザーや内容を制御できる。\n",
    "- Cloud Load Balancing：すべてのトラフィックの前に置いて、負荷分散を提供し、トラフィックをマルチリージョナブルに分割する。\n",
    "- DNS: インターネットのホスト名をIPアドレスに変換する。"
   ]
  },
  {
   "cell_type": "markdown",
   "metadata": {},
   "source": [
    "## 3.1.3.1 [Kubenates](https://kubernetes.io/)\n",
    "\n",
    "### 3.1.3.2 [Kubenates Engine](https://cloud.google.com/kubernetes-engine/docs/)\n",
    "\n",
    "コンテナ仮装化のマネージドサービス。  \n",
    "コンテナAとコンテナBを繋げてプラットフォームを作るイメージ？"
   ]
  },
  {
   "cell_type": "markdown",
   "metadata": {},
   "source": [
    "## 3.2. [Storage](https://cloud.google.com/storage-options/)\n",
    "通常はデータを アプリケーションや ダッシュボード、 データサービスに提供。 \n",
    "- Cloud Storage\n",
    "- Google Bigtable  \n",
    "- Cloud SQL & Cloud Spanner\n",
    "- Cloud Data Store\n",
    "\n",
    "![StorageList.png](../photo/StorageList.png)\n",
    "![StorageList_UseCase.png](../photo/StorageList_UseCase.png)"
   ]
  },
  {
   "cell_type": "markdown",
   "metadata": {},
   "source": [
    "### 3.2.1 [Cloud Storage](https://cloud.google.com/storage/)\n",
    "~~ファイルストレージ: データをフォルダ階層で管理する~~  \n",
    "~~ブロックストレージ: OSがデータをディスクのチャンクとして管理する~~  \n",
    "オブジェクトストレージ: データを主にURL形式で一意に表現しその場で保存する　　  \n",
    "フルマネージドのスケーラブルなサービス　　  \n",
    "ライフサイクル管理ポリシー: 365日以上経過したオブジェクトを削除するよう指定したり、最新の3つのオブジェクトだけを保持するよう指定することもできる"
   ]
  },
  {
   "cell_type": "markdown",
   "metadata": {},
   "source": [
    "### 3.2.2 [Cloud Bigtable](https://cloud.google.com/bigtable/docs/)\n",
    "GoogleのNoSQL(行が同じ列を共有する必要がない)でビッグデータ向けのデータベースサービス  \n",
    "Cloud BigtableはHBaseと同じオープンソースAPIで提供。Apache Hadoopプロジェクトのネイティブデータベース。  \n",
    "スケーラビリティ：マシンの数を増やすだけでスケールできる。  "
   ]
  },
  {
   "cell_type": "markdown",
   "metadata": {},
   "source": [
    "### 3.2.3 [CloudSQL](https://cloud.google.com/sql/docs/)\n",
    "MySQLと PostgreSQLを提供。テラバイトのストレージを処理する。  \n",
    "バックアップ機能"
   ]
  },
  {
   "cell_type": "markdown",
   "metadata": {},
   "source": [
    "### 3.2.4 [Cloud Datastore](https://cloud.google.com/datastore/docs/)\n",
    "スケーラビリティの高いNoSQLデータベース  \n",
    "App EngineとCompute Engineにまたがるソリューションを構築するときの統合ポイントになる"
   ]
  },
  {
   "cell_type": "markdown",
   "metadata": {},
   "source": [
    "## 3.3 [Big Data](https://cloud.google.com/products/big-data/)"
   ]
  },
  {
   "cell_type": "markdown",
   "metadata": {},
   "source": [
    "### 3.3.1 Cloud Dataproc\n",
    "高速で容易な管理方法でHadoop、Spark、Hive、Pigを Google Cloud Platformで実行。  \n",
    "Hadoopクラスタをリクエストするだけで Compute Engineの仮想マシン上に自動作成され その数とタイプを制御することができる。  \n",
    "クラスタの実行中に 処理能力を増減させる必要がある場合は スケールアップもスケールダウンも可能。  \n",
    "Cloud Dataprocは秒課金。ただし、1分間分の最小料金はかかる。  \n",
    "データがクラスタに配置されたら Sparkと Spark SQLを使ってデータマイニングやMLibも利用できる。  \n",
    "\n",
    "- Stackdriver: クラスタを監視\n",
    "- MapReduce: 大量のデータセットと並行して動作し、中間結果を生成。その後、すべての中間結果に基づいて 最終結果セットを作成。"
   ]
  },
  {
   "cell_type": "markdown",
   "metadata": {},
   "source": [
    "### 3.3.2 [Cloud Dataflow](https://cloud.google.com/dataflow/docs/)\n",
    "幅広いデータ処理パターンを開発、実行する。抽出、変換、読み込みをバッチ処理と連続処理で実行できる。  \n",
    "データパイプラインを作成して、同じパイプラインをバッチデータにもストリーミングデータにも使用できる。  \n",
    "例: 情報提供元であるBigQueryテーブルからデータを読み取り、Dataflowのパイプラインで「変換」処理し、出力結果をCloud Storageに書き込む。"
   ]
  },
  {
   "cell_type": "markdown",
   "metadata": {},
   "source": [
    "### 3.3.3 [Big Query](https://cloud.google.com/bigquery/docs/)\n",
    "ペタバイト規模のデータを低コストで分析できるデータウェアハウス  \n",
    "インフラストラクチャの管理は不要なので、データの分析に集中できる。  \n",
    "\n",
    "料金体系  \n",
    "BigQueryではストレージとコンピューティングが分離するため、データストレージとクエリの料金は別。つまり、クエリの料金は実際にクエリを実行したときだけ支払う。  \n",
    "1秒あたり最大10万行で BigQueryにストリーミングできる。  \n",
    "\n",
    "BigQueryへのデータの読み込み例：  \n",
    "Cloud StorageやCloud Datastoreから読み込む。  "
   ]
  },
  {
   "cell_type": "markdown",
   "metadata": {},
   "source": [
    "### 3.3.4 [Cloud Pub/Sub](https://cloud.google.com/pubsub/)\n",
    "イベントをリアルタイムで処理するときのメッセージングサービス。  \n",
    "独立したアプリ間でメッセージを送受信できる。1秒に100万件以上メッセージを送受信できる。  "
   ]
  },
  {
   "cell_type": "markdown",
   "metadata": {},
   "source": [
    "### 3.3.5 [Cloud Datalab](https://cloud.google.com/datalab/)\n",
    "Compute Engineの仮想マシンで動作し、起動時にインタラクティブなPython環境が利用できる。Google Chartやmatplotlibでデータの可視化もできる。  \n",
    "複数のGCPサービス（BigQuery、Compute Engine、Cloud Storage）を自動的に統合する。\n",
    "Jupyter Labのイメージ？"
   ]
  },
  {
   "cell_type": "markdown",
   "metadata": {},
   "source": [
    "### 3.3.6 [Dataprep](https://cloud.google.com/dataprep/)\n",
    "データ加工をGUIで実行する環境。PixieDustみたいな感じ。  \n",
    "しかも、オートスケールすることで、GUI特有の計算負荷軽減を実現。"
   ]
  },
  {
   "cell_type": "markdown",
   "metadata": {},
   "source": [
    "## 3.4 [MachineLearning](https://cloud.google.com/products/machine-learning/)"
   ]
  },
  {
   "cell_type": "markdown",
   "metadata": {},
   "source": [
    "- [Cloud Vision API](https://cloud.google.com/vision/): 数千のカテゴリに画像をすばやく分類。船、ライオン、エッフェル塔など、画像内のオブジェクトを検出し、画像に含まれる明示的な文字を見つけて読み取る。画像の感情分析を行うことさえできる。\n",
    "- [Cloud Speech API](https://cloud.google.com/speech-to-text/): 音声をテキストに変換する。対応言語は80以上の言語と方言。ユーザーの声をアプリのマイクで聞き取って、テキスト文字に書き起こしたり 音声コマンドやコントロールを有効にしたり、音声ファイルを書き起したりする。\n",
    "- [Cloud Natural Language API](https://cloud.google.com/natural-language/): 構文解析や形態素解析、単語の相互関係を抽出。\n",
    " - エンティティ認識: テキストを解析して 人、組織、場所、イベント、製品、メディアが言及されたらフラグ立てを行う。\n",
    "- [Cloud Translation API](https://cloud.google.com/translate/): 任意の文字列をサポートされる言語に翻訳する。\n",
    "- [Cloud Video Intelligence API](https://cloud.google.com/video-intelligence/): さまざまな形式の動画に アノテーションを付けられる。動画の中の主な名詞エンティティを識別し、出現するタイミングも識別で切る。"
   ]
  },
  {
   "cell_type": "markdown",
   "metadata": {},
   "source": [
    "## 3.5 [AppEngine](https://cloud.google.com/appengine/)\n",
    "gitのレポジトリのようなイメージで、コードだけの単位で環境にデプロイ、Webサービス構築を試すことができる。\n",
    "- スタンダード環境： 無料でお試しできる軽量サービス。\n",
    "- フレキシブル環境： 様々なランタイムでWebサービスを公開できる本サービス。\n",
    "- Endpoints: APIのバージョン管理サービス。"
   ]
  },
  {
   "cell_type": "markdown",
   "metadata": {},
   "source": [
    "### 3.5.1 [AppEngine スタンダード環境](https://cloud.google.com/appengine/docs/standard/)\n",
    "スタンダード環境では、一部のサービスに無料の使用枠があり、使用量の少ないアプリは無料で実行できる。  \n",
    "\n",
    "GoogleはApp EngineのSDKを複数の言語で提供している。  \n",
    "SDKにはデプロイ用の簡単なコマンドが用意されていて、アプリをローカルでテストしてから、App Engineの実サービスにアップロードできる。\n",
    "\n",
    "- ランタイム：実行バイナリ、つまり、実行言語のこと。特定のバージョンのJava、Python、PHP、Goが使える。ランタイムにはApp Engine APIをサポートするライブラリも含まれている。  \n",
    "多くのアプリでは、スタンダード環境のランタイムとライブラリがあれば十分。\n",
    "逆に、別の言語でコーディングしたい場合、スタンダード環境は適していないため、フレキシブル環境を検討すること。\n",
    "- コード制限: サンドボックス（ハードウェアやOSから独立した環境）内でアプリをデプロイするため、コード制限が設けられている。たとえば、\n",
    " - アプリはローカルファイルシステムに書き込めない。デ ータを永続化するには、データベースサービスに書き込む。\n",
    " - アプリが受け取ったリクエストは60秒のタイムアウトがある。\n",
    " - 他社のソフトウェアを勝手にインストールできない。\n",
    "これらの制約が問題になるときは、フレキシブル環境を選択すること。"
   ]
  },
  {
   "cell_type": "markdown",
   "metadata": {},
   "source": [
    "### 3.5.2 [AppEngine フレキシブル環境](https://cloud.google.com/appengine/docs/flexible/)\n",
    "フレキシブル環境では、サンドボックスではなく、アプリのエンジンが動作するコンテナを指定できる。  \n",
    "アプリはGoogle Compute Engineの仮想マシン上のDockerコンテナで実行される。  \n",
    "App Engineのフレキシブル環境では、アプリは標準のランタイムを利用し、App Engineサービスにアクセスできる。  \n",
    "\n",
    "#### Kubernetes VS フレキシブル VS スタンダード\n",
    "![Kubernetes_vs_AppEngine](../photo/Kubernetes_vs_AppEngine.png)\n",
    "スタンダード環境ではアプリのインスタンスをより速く開始できる。また、スタンダード環境の課金は、アプリが完全にアイドル状態になるとゼロになる。ただし、スタンダード環境では、アプリが動作するインフラストラクチャへのアクセスは制限されてる。  \n",
    "一方、フレキシブル環境にはアプリを実行する仮想マシンにSSHで通信できる。また、ローカルディスクをスクラッチベースで利用でき、他社製ソフトウェアをインストールできる。\n",
    "\n",
    "App EngineとKubernetes Engineの違い：  \n",
    "App Engineのスタンダード環境は、アプリのデプロイとスケーリングの管理をサービスに任せたい人に適している。  \n",
    "一方、Kubernetes EngineはKurbenetesの柔軟性をフルに活用したい人向け。App Engineのフレキシブル版はこの中間。\n",
    "また、App Engineの環境ではコンテナは目的達成の手段だが、Kubernetes Engineではコンテナは構成の基本原則。"
   ]
  },
  {
   "cell_type": "markdown",
   "metadata": {},
   "source": [
    "### 3.5.3 [Cloud Endpoints](https://cloud.google.com/endpoints/)\n",
    "APIのバージョン管理サービス（※）。  \n",
    "※APIは、インターフェイスが変わらない限り、内部実装は変更することができる。しかし、機能を追加したり廃止したりする時には、インターフェースそのものの変更が必要になることもある。こうしたAPIの変更をうまく行うために開発者はAPIをバージョニングする。\n",
    "\n",
    "用途：  \n",
    "APIを簡単に公開したい、信頼する開発者のみに利用を許可したい、使用状況を簡単に監視して記録したい、APIを呼び出すエンドユーザーを把握するための一貫した方法をAPIに組み込みたい、など。\n",
    "\n",
    "[apigee edge](https://docs.apigee.com/api-platform/get-started/what-apigee-edge)  \n",
    "Apigee EdgeもAPIプロキシの開発および管理プラットフォーム。  \n",
    "Apigee Edgeはビジネス上の問題に重点を置いている。  \n",
    "たとえば、レート制限、クォータ、アナリティクスなど。  \n",
    "Apigee Edgeの多くのユーザーは、レガシーアプリを分解するときによく使用する。  \n",
    "リスクを伴ってモノリシックアプリを一度に置き換えるのではなく、 Apigee Edgeを使えばサービスを 1つずつ切り離すことができる。つまり、マイクロサービスを立ち上げて、１つずつ順番に実装し、最終的にレガシーアプリを廃止します。   "
   ]
  },
  {
   "cell_type": "markdown",
   "metadata": {},
   "source": [
    "## 3.6 Deployment"
   ]
  },
  {
   "cell_type": "markdown",
   "metadata": {},
   "source": [
    "### 3.6.1 [Cloud Source Repositories](https://cloud.google.com/source-repositories/)\n",
    "GCPのプライベートGitサービス。  \n",
    "Kaggleを使う際は、使用を検討したい。"
   ]
  },
  {
   "cell_type": "markdown",
   "metadata": {},
   "source": [
    "### 3.6.2 [Cloud Deployment Manager](https://cloud.google.com/deployment-manager/)\n",
    "Deployment ManagerはGoogle Cloud Platformの作成と管理を自動化するインフラストラクチャ管理サービス。  Inflastructure as codeってやつか。\n",
    "- テンプレートファイル: YAMLマークアップ言語かPythonを使って設定したい環境のコンポーネントを記述する。↓図参照。bashrcみたいな感じ？  \n",
    "![template](../photo/template.png)\n",
    "Deployment Managerのテンプレートは、Cloud Source Repositoriesに保存してバージョン管理できる。"
   ]
  },
  {
   "cell_type": "markdown",
   "metadata": {},
   "source": [
    "### 3.6.3 [Stackdriver](https://cloud.google.com/stackdriver/)\n",
    "StackdriverはGCPのモニタリング、ロギング、診断用ツール。  \n",
    "インフラストラクチャプラットフォーム、 仮想マシン、コンテナ、ミドルウェア、 アプリケーション階層、ログ、トレースからのさまざまなシグナルを利用して、アプリケーションの正常性、パフォーマンス、可用性を把握できる。\n",
    "![stackdriver.png](../photo/stackdriver.png)  \n",
    "- モニタリング： 変更の是非を判断し、アプリケーションの安定した動作を確認する。URL、グループ、インスタンスやロードバランサなどのリソースに関連する稼働時間チェックを設定できる。  \n",
    " - アラート設定：ヘルスチェックの結果や稼働率のレベルが対応が必要になるほど下がった場合など関心のある条件に応じたアラートを設定できる。  \n",
    " - ダッシュボード：アプリケーションの状態を可視化するダッシュボードも作成できる。  \n",
    "- ロギング：アプリケーションのログを表示してフィルタ処理や検索を可能にする。  \n",
    "また、ダッシュボードとアラートに組み込むログの内容に応じた指標を定義できる。  \n",
    "ログはBigQuery、Cloud Storage Cloud Pub/Sub にエクスポートできる。  \n",
    "- Error Reporting：クラウド アプリケーションのエラーを追跡、分類し、新たなエラーを検出すると通知する。\n",
    "- Trace：App Engineアプリケーションのレイテンシをサンプリングし、URLごとの統計レポートを作成出来る。\n",
    "- デバッグ：既存のアプリケーションのデバッグの際、ソースコードに戻り、いくつもログステートメントを追加するのは大変。  \n",
    "一方、Debuggerのアプローチを使えば、アプリケーションのプロダクションデータとソースコードをつなぎ、アプリケーションの状態をあらゆるコードの位置で検査できる。"
   ]
  },
  {
   "cell_type": "markdown",
   "metadata": {},
   "source": [
    "### その他"
   ]
  },
  {
   "cell_type": "markdown",
   "metadata": {},
   "source": [
    "検索: GA beta alpha\n",
    "- 構文分析\n",
    "- Cloud ML Engine: \n",
    "- 大和証券のサービスがGCP上で稼働"
   ]
  },
  {
   "cell_type": "markdown",
   "metadata": {},
   "source": [
    "### レトリバ  \n",
    "丸紅のオムニス(googleの音声テキスト変換API)  \n",
    "チャット形式の音声テキスト変換、回答支援、自動要約(抽出的要約元のハイライト付)  \n",
    "オムニスは精度も高く超安い。  \n",
    "ドッカーで製品格納して、GCE上に置く。  \n",
    "\n",
    "### コンプライアンス遵守について  \n",
    "- 自社で検証  \n",
    "- コンテナイメージに署名置く。  \n",
    "- コンテナレジストリ(e.g. UbuntuとかOS)の脆弱性検証  \n",
    "- アクセスの透明性(GCPに対するフォレンジックが可能)  \n",
    "- 規制策定に参画  \n",
    "FISC(金融情報システムセンター)へ見解提出  \n",
    "NISC(内閣サイバーセキュリティセンター)  \n",
    "医療情報システムの安全管理へ見解提出、など  \n",
    "- 環境への配慮：ISO14001に準拠"
   ]
  }
 ],
 "metadata": {
  "kernelspec": {
   "display_name": "Python 3",
   "language": "python",
   "name": "python3"
  },
  "language_info": {
   "codemirror_mode": {
    "name": "ipython",
    "version": 3
   },
   "file_extension": ".py",
   "mimetype": "text/x-python",
   "name": "python",
   "nbconvert_exporter": "python",
   "pygments_lexer": "ipython3",
   "version": "3.6.5"
  }
 },
 "nbformat": 4,
 "nbformat_minor": 2
}
