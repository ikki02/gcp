{
 "cells": [
  {
   "cell_type": "markdown",
   "metadata": {},
   "source": [
    "### Google Chrome\n",
    "|内容|【Windows】|【Mac】|\n",
    "|:-:|:-:|:-:|\n",
    "|新しいタブを開く|Ctrl＋T|Command＋T|\n",
    "|新しいウィンドウを開く|Ctrl＋N|Command＋N|\n",
    "|シークレットモードで新しいウィンドウを開く|Ctrl＋Shift＋N|Command＋Shift＋N|\n",
    "|タブを閉じる|Ctrl＋W|Command＋W|\n",
    "|閉じたタブを再度開く|Ctrl＋Shift＋T|Command＋Z|\n",
    "|現在のウィンドウを閉じる|Alt＋F4|Command＋Shift＋W|\n",
    "|指定したタブへ移動|Ctrl＋数字|Command＋数字|\n",
    "|タブを右に移動|Ctrl＋Tab|Ctrl＋Tab|\n",
    "|タブを左に移動|Ctrl＋Shift＋Tab|Ctrl＋Shift＋Tab|\n",
    "|アドレスバーにカーソルを移動|Ctrl＋L|Command＋L|\n",
    "|履歴ページを表示|Ctrl＋H|Command＋Y|\n",
    "|履歴を消去|Ctrl＋Shift+Delete|Command＋Shift+Delete|\n",
    "|ブックマークに追加|Ctrl＋D|Command＋D|\n",
    "|ページを更新|F5|Command＋R|\n",
    "|テキストサイズを大きくする|Ctrl＋+キー|Command＋+キー|\n",
    "|テキストサイズを小さくする|Ctrl＋-キー|Command＋-キー|\n",
    "|テキストサイズを標準設定にする|Ctrl＋0|Command＋0|\n",
    "|ページ内検索|Ctrl＋F|Command＋F|\n",
    "|ダウンロードページを開く|Ctrl＋J|Command＋Shift+J|\n",
    "|HTMLソースを開く|Ctrl＋U|Command＋Option+U|\n",
    "|ユーザーを切り替える|Ctrl ＋Shift ＋M|Command＋Shift+Option＋Q|\n",
    "|タスクマネジャーを開く|Shift+Esc|×|"
   ]
  },
  {
   "cell_type": "markdown",
   "metadata": {},
   "source": [
    "### Jupyter Notebook\n",
    "|内容|【Windows】|\n",
    "|:-:|:-:|\n",
    "|ショートカット一覧を開く|Esc＋h|"
   ]
  }
 ],
 "metadata": {
  "kernelspec": {
   "display_name": "Python 3",
   "language": "python",
   "name": "python3"
  },
  "language_info": {
   "codemirror_mode": {
    "name": "ipython",
    "version": 3
   },
   "file_extension": ".py",
   "mimetype": "text/x-python",
   "name": "python",
   "nbconvert_exporter": "python",
   "pygments_lexer": "ipython3",
   "version": "3.6.1"
  }
 },
 "nbformat": 4,
 "nbformat_minor": 2
}
