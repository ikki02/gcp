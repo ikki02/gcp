{
 "cells": [
  {
   "cell_type": "markdown",
   "metadata": {},
   "source": [
    "### [GCP上でJupyter notebookにアクセスする方法](https://towardsdatascience.com/running-jupyter-notebook-in-google-cloud-platform-in-15-min-61e16da34d52)\n",
    "1. インスタンスの設定。\n",
    " - Allow HTTP trafficにチェックをつける。\n",
    "1. インスタンスのExternal IP addressを固定にする。\n",
    " - インスタンスを起動した状態で、VPC networkのExternal IP addressesを選択。\n",
    " - TypeをStaticに設定する。この時、名前は任意。\n",
    "1. ファイアウォールの設定。\n",
    " - VPC networkのFirewall rulesを選択。\n",
    " - Create Firewall Rulesをクリック。\n",
    " - Source IP rangesは 0.0.0.0/0 に設定。\n",
    " - Protocols and portsはSpecified protocols and portsを選択して、tcp:5000に設定。  \n",
    "開きたいポート番号は任意でOK。tcp:8081とかもあり？ \n",
    "1. インスタンス上のJupyterの設定。  \n",
    " - コンフィグファイルの生成。以下のコマンドで生成できる。  \n",
    "※ ~/.jupyter/jupyter_notebook_config.pyがあれば、生成する必要はない。\n",
    "```\n",
    "jupyter notebook --generate-config  \n",
    "```\n",
    " - 以下の5行をjupyter_notebook_config.pyに追記する。\n",
    "```\n",
    "c = get_config()\n",
    "c.NotebookApp.ip = '*'\n",
    "c.NotebookApp.open_browser = False\n",
    "c.NotebookApp.port = 5000\n",
    "```\n",
    "1. jupyterを起動する。\n",
    " - jupyter-notebook --no-browser --port=5000\n",
    "1. ブラウザ上でURLを入力する。\n",
    " - http://<インスタンスのExternal Static IP Address>:5000\n",
    " - tokenを聞かれる際は、jupyterを起動しているサーバーに出力されているtokenを入力する。\n",
    "1. インスタンス上のjupyter notebookにアクセスできる。"
   ]
  },
  {
   "cell_type": "markdown",
   "metadata": {},
   "source": [
    "### GCP上でのサーバーの立て方\n",
    "\n",
    "1. Cloud Shellを起動する。\n",
    "1. echo \"Hello world\" > index.html\n",
    "1. python -m SimpleHTTPServer 81\n",
    "1. ブラウザの右上のボタン上にある「81で開く」的なやつをクリックすると、index.htmlが起動するはず。  \n",
    "  \n",
    "なお、Cloud Shell上ではポート番号は81-84が使えるらしい。"
   ]
  }
 ],
 "metadata": {
  "kernelspec": {
   "display_name": "Python 3",
   "language": "python",
   "name": "python3"
  },
  "language_info": {
   "codemirror_mode": {
    "name": "ipython",
    "version": 3
   },
   "file_extension": ".py",
   "mimetype": "text/x-python",
   "name": "python",
   "nbconvert_exporter": "python",
   "pygments_lexer": "ipython3",
   "version": "3.6.5"
  }
 },
 "nbformat": 4,
 "nbformat_minor": 2
}
