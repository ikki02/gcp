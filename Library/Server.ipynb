{
 "cells": [
  {
   "cell_type": "markdown",
   "metadata": {},
   "source": [
    "### [GCP上でJupyter notebookにアクセスする方法](https://towardsdatascience.com/running-jupyter-notebook-in-google-cloud-platform-in-15-min-61e16da34d52)\n",
    "1. インスタンスの設定。\n",
    " - Allow HTTP trafficにチェックをつける。\n",
    "1. インスタンスのExternal IP addressを固定にする。\n",
    " - インスタンスを起動した状態で、VPC networkのExternal IP addressesを選択。\n",
    " - TypeをStaticに設定する。この時、名前は任意。\n",
    "1. ファイアウォールの設定。\n",
    " - VPC networkのFirewall rulesを選択。\n",
    " - Create Firewall Rulesをクリック。\n",
    " - Source IP rangesは 0.0.0.0/0 に設定。\n",
    " - Protocols and portsはSpecified protocols and portsを選択して、tcp:5000に設定。  \n",
    "開きたいポート番号は任意でOK。tcp:8081とかもあり？ \n",
    "1. インスタンス上のJupyterの設定。  \n",
    " - コンフィグファイルの生成。以下のコマンドで生成できる。  \n",
    "※ ~/.jupyter/jupyter_notebook_config.pyがあれば、生成する必要はない。\n",
    "```\n",
    "jupyter notebook --generate-config  \n",
    "```\n",
    " - 以下の5行をjupyter_notebook_config.pyに追記する。\n",
    "```\n",
    "c = get_config()\n",
    "c.NotebookApp.ip = '*'\n",
    "c.NotebookApp.open_browser = False\n",
    "c.NotebookApp.port = 5000\n",
    "```\n",
    "1. jupyterを起動する。\n",
    " - jupyter-notebook --no-browser --port=5000\n",
    "1. ブラウザ上でURLを入力する。\n",
    " - http://<インスタンスのExternal Static IP Address>:5000\n",
    " - tokenを聞かれる際は、jupyterを起動しているサーバーに出力されているtokenを入力する。\n",
    "1. インスタンス上のjupyter notebookにアクセスできる。"
   ]
  },
  {
   "cell_type": "markdown",
   "metadata": {},
   "source": [
    "### GCP上でのDjangoサーバーの立て方①\n",
    "\n",
    "1. 上記手順で1~3までを実行して、HTTP接続可能な状態にする。\n",
    "1. サーバーを立てる際、IPとポートを指定する。`python manage.py runserver 0.0.0.0:5000`\n",
    "1. ブラウザに入力するURL（右記のIPアドレスは上記1で取得したExternal IP）: `http://104.154.63.243:5000`\n",
    "1. IPアドレスの代わりにドメインでアクセスできるようにするため、ドメインサービスを利用して、独自ドメインを取得。  \n",
    "[参考リンク先①：無料のドメインを取得する](https://qiita.com/teekay/items/135dc67e39f24997019e)  \n",
    "[参考リンク先②：Google Cloud Platform (GCP) で独自ドメインを設定する](https://qiita.com/tomy0610/items/adc839be9d100c0daf96)  \n",
    "[参考リンク先③：GCPで永久無料枠を利用してサービスを立ち上げたときにしたことの備忘録](https://qiita.com/riku-shiru/items/a870edd9dc0b132e092c)\n",
    "1. ドメインサービス側で、IPアドレスとドメインの紐付けを実行。\n",
    "1. 1日くらい待てば、動作確認。"
   ]
  },
  {
   "cell_type": "markdown",
   "metadata": {},
   "source": [
    "### GCP上でのサーバーの立て方②\n",
    "\n",
    "1. Cloud Shellを起動する。\n",
    "1. echo \"Hello world\" > index.html\n",
    "1. python -m SimpleHTTPServer 81\n",
    "1. ブラウザの右上のボタン上にある「81で開く」的なやつをクリックすると、index.htmlが起動するはず。  \n",
    "  \n",
    "なお、Cloud Shell上ではポート番号は81-84が使えるらしい。"
   ]
  }
 ],
 "metadata": {
  "kernelspec": {
   "display_name": "Python 3",
   "language": "python",
   "name": "python3"
  },
  "language_info": {
   "codemirror_mode": {
    "name": "ipython",
    "version": 3
   },
   "file_extension": ".py",
   "mimetype": "text/x-python",
   "name": "python",
   "nbconvert_exporter": "python",
   "pygments_lexer": "ipython3",
   "version": "3.6.5"
  }
 },
 "nbformat": 4,
 "nbformat_minor": 2
}
