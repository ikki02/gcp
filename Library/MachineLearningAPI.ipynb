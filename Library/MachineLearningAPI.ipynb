{
 "cells": [
  {
   "cell_type": "markdown",
   "metadata": {},
   "source": [
    "## Contents\n",
    "- （参考）API活用のリンク先\n",
    "- 概要：Google Cloud AIについて\n",
    " - Machine Learning API\n",
    "   - Vision API\n",
    "   - Speech_to_Text API\n",
    "- 実践：Natural Language API"
   ]
  },
  {
   "cell_type": "markdown",
   "metadata": {},
   "source": [
    "### （参考）API活用のリンク先\n",
    "公式ドキュメント\n",
    "- [Vision API](https://cloud.google.com/vision/)\n",
    "- [Speech_to_Text API](https://cloud.google.com/speech-to-text/)\n",
    "- [Natural Language API](https://cloud.google.com/natural-language/)\n",
    "- [Translation API](https://cloud.google.com/translate/)\n",
    "- [Video Intelligence API](https://cloud.google.com/video-intelligence/)\n",
    "\n",
    "利用手順\n",
    "- [AutoML](https://www.qwiklabs.com/focuses/1779?catalog_rank=%7B%22rank%22:1,%22num_filters%22:0,%22has_search%22:true%7D&locale=en&parent=catalog&search_id=2201328)\n",
    "- [VisionAPI](https://www.qwiklabs.com/focuses/1841?catalog_rank=%7B%22rank%22:7,%22num_filters%22:0,%22has_search%22:true%7D&locale=en&parent=catalog&search_id=2201330)\n",
    "- [Translation](https://www.qwiklabs.com/focuses/697?catalog_rank=%7B%22rank%22:4,%22num_filters%22:0,%22has_search%22:true%7D&locale=en&parent=catalog&search_id=2201333)\n",
    "- [Speech_to_Text](https://www.qwiklabs.com/focuses/2187?catalog_rank=%7B%22rank%22:7,%22num_filters%22:0,%22has_search%22:true%7D&locale=en&parent=catalog&search_id=2201345)\n",
    "- [NaturalLanguage1](https://www.qwiklabs.com/focuses/582?catalog_rank=%7B%22rank%22:6,%22num_filters%22:0,%22has_search%22:true%7D&locale=en&parent=catalog&search_id=2201352)\n",
    "- [NaturalLanguage2](https://www.qwiklabs.com/focuses/1843?catalog_rank=%7B%22rank%22:11,%22num_filters%22:0,%22has_search%22:true%7D&locale=en&parent=catalog&search_id=2201353)"
   ]
  },
  {
   "cell_type": "markdown",
   "metadata": {},
   "source": [
    "### 概要：Google Cloud AIについて\n",
    "![GoogleCloudAI.jpg](../photo/MLAPI/GoogleCloudAI.JPG)\n",
    "補足\n",
    "- Machine Learning API：データさえあれば、学習済みモデルを使って推論できる。\n",
    "- Cloud AI Platform：自分でコード書いてアルゴリズムいじれる。学習も自分で。\n",
    "\n",
    "![MachineLearningAPI.png](../photo/MLAPI/MachineLearningAPI.png)"
   ]
  },
  {
   "cell_type": "markdown",
   "metadata": {},
   "source": [
    "### Vision API\n",
    "![VisionAPI.jpg](../photo/MLAPI/VisionAPI.jpg)"
   ]
  },
  {
   "cell_type": "markdown",
   "metadata": {},
   "source": [
    "### Speech_to_Text API\n",
    "![Speech_to_Text.jpg](../photo/MLAPI/SpeechToTextAPI.jpg)"
   ]
  },
  {
   "cell_type": "markdown",
   "metadata": {},
   "source": [
    "### 実践：Natural Language API\n",
    "実際にAPIを活用する手順を整理する。\n",
    "1. APIキーの発行\n",
    "1. `request.json`ファイルを作成する。\n",
    "1. `curl`コマンド等でrequest.jsonをAPIに渡して、返り値を確認する。"
   ]
  },
  {
   "cell_type": "markdown",
   "metadata": {},
   "source": [
    "#### APIキーの発行\n",
    "APIリクエストを送るための認証キーを作成する。\n",
    "1. [Credentials」をクリックする。\n",
    "![APIKey1](../photo/MLAPI/APIKey1.png)\n",
    "1. 「Create credentials」ボタンをクリックして「API Key」を選択。\n",
    "![APIKey2](../photo/MLAPI/APIKey2.png)\n",
    "APIキーの文字列が発行されることを確認する。\n",
    "1. 実行しているシェル上で、API_KEY変数に認証キーを指定しておく。  \n",
    "`export API_KEY=<YOUR_API_KEY>`"
   ]
  },
  {
   "cell_type": "markdown",
   "metadata": {},
   "source": [
    "#### request.jsonファイルの作成\n",
    "任意のディレクトリでrequest.jsonファイルを以下のように作る。  \n",
    "contentに解析したいテキスト内容を入力する。  \n",
    "```\n",
    "{\n",
    "  \"document\":{\n",
    "    \"type\":\"PLAIN_TEXT\",\n",
    "    \"content\":\"Joanne Rowling, who writes under the pen names J. K. Rowling and Robert Galbraith, is a British novelist and screenwriter who wrote the Harry Potter fantasy series.\"\n",
    "  },\n",
    "  \"encodingType\":\"UTF8\"\n",
    "}\n",
    "```"
   ]
  },
  {
   "cell_type": "markdown",
   "metadata": {},
   "source": [
    "#### APIリクエスト\n",
    "request.jsonファイルを作成したら、以下のコマンドでAPIリクエストを送り、返り値を確認する。  \n",
    "- エンティティ抽出  \n",
    "ここでは、渡したテキスト内容を形態素解析し、トークン毎のエンティティ（PERSON, PLACE, など）を抽出してくれる。  \n",
    "`curl \"https://language.googleapis.com/v1/documents:analyzeEntities?key=${API_KEY}\" \\\n",
    "  -s -X POST -H \"Content-Type: application/json\" --data-binary @request.json`\n",
    "  \n",
    "- 感情値分析1  \n",
    "（各トークンまたはドキュメント全体に対する）感情値抽出。  \n",
    "`curl \"https://language.googleapis.com/v1/documents:analyzeSentiment?key=${API_KEY}\" \\\n",
    "  -s -X POST -H \"Content-Type: application/json\" --data-binary @request.json`\n",
    "\n",
    "- 感情値分析2  \n",
    "（各トークンまたはドキュメント全体に対する）感情値抽出。エンティティ毎に感情値推定する応用技。  \n",
    "`curl \"https://language.googleapis.com/v1/documents:analyzeEntitySentiment?key=${API_KEY}\" \\\n",
    "  -s -X POST -H \"Content-Type: application/json\" --data-binary @request.json`\n",
    "  \n",
    "- Syntax分析  \n",
    "（各トークンに対する）Syntax抽出：係受け関係とか形態素解析  \n",
    "`curl \"https://language.googleapis.com/v1/documents:analyzeSyntax?key=${API_KEY}\" \\\n",
    "  -s -X POST -H \"Content-Type: application/json\" --data-binary @request.json`\n",
    "  \n",
    "- 言語判定\n",
    "上記リクエストに対する返り値には、何の言語か判定した結果も返ってくる。例：en→英語、ja→日本語、など"
   ]
  }
 ],
 "metadata": {
  "kernelspec": {
   "display_name": "Python 3",
   "language": "python",
   "name": "python3"
  },
  "language_info": {
   "codemirror_mode": {
    "name": "ipython",
    "version": 3
   },
   "file_extension": ".py",
   "mimetype": "text/x-python",
   "name": "python",
   "nbconvert_exporter": "python",
   "pygments_lexer": "ipython3",
   "version": "3.6.5"
  }
 },
 "nbformat": 4,
 "nbformat_minor": 2
}
