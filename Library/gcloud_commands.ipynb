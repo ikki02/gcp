{
 "cells": [
  {
   "cell_type": "markdown",
   "metadata": {},
   "source": [
    "### gcloudコマンド"
   ]
  },
  {
   "cell_type": "code",
   "execution_count": null,
   "metadata": {},
   "outputs": [],
   "source": [
    "#　ヘルプ\n",
    "gcloud help  #　gcloudのマニュアルを読める。  \n",
    "gcloud -h  #　利用可能なコマンド一覧表示\n",
    "gcloud help compute  #　引数のヘルプを表示できる。  "
   ]
  },
  {
   "cell_type": "code",
   "execution_count": null,
   "metadata": {},
   "outputs": [],
   "source": [
    "#　基本情報の確認\n",
    "gcloud info"
   ]
  },
  {
   "cell_type": "code",
   "execution_count": null,
   "metadata": {},
   "outputs": [],
   "source": [
    "# インスタンス操作\n",
    "gcloud compute instances create \"my_vm1\"\n",
    "gcloud compute instances list  #インスタンス一覧を表示する。\n",
    "gcloud compute ssh \"instance-1”  #インスタンスにssh接続する。\n",
    "gcloud compute instances start \"instance-1”  #インスタンスを起動する。\n",
    "gcloud compute instances stop \"instance-1\"  #インスタンスを終了する。"
   ]
  },
  {
   "cell_type": "code",
   "execution_count": null,
   "metadata": {},
   "outputs": [],
   "source": [
    "# configの確認\n",
    "gcloud config list (—all)  #設定を確認する。\n",
    "gcloud auth list  #認証済みアカウントの表示"
   ]
  },
  {
   "cell_type": "code",
   "execution_count": null,
   "metadata": {},
   "outputs": [],
   "source": [
    "# StorageからGCEへのデータ転送\n",
    "gcloud compute scp input/all.zip instance1:/home/ikki/myapp/revenue/  #ローカルのzipをgcpインスタンスに転送\n",
    "gcloud compute scp —recurse input instance1:/home/ikki/myapp/revenue/  #ローカルディレクトリinputをgcpインスタンスに転送\n",
    "gcloud compute scp --recurse example-instance:~/narnia ~/wardrobe\n",
    "gcloud compute scp ~/localtest.txt ~/localtest2.txt \\example-instance:~/narnia\n",
    "gsutil -m cp -r gs://path/to/hoge/* ./ ：Cloud Storageからコピー\n",
    "e.g. gsutil -m cp -r .\\submit_180729_1st.csv gs://kaggle_titanic02/submit/submit_180729_1st.csv\n",
    "e.g. gsutil -m cp -r ./activity gs://kaggle_sales02/\n",
    "gsutil mv gs://path/to/hoge/* gs://path/to/hoge/*2"
   ]
  },
  {
   "cell_type": "code",
   "execution_count": null,
   "metadata": {},
   "outputs": [],
   "source": [
    "# タイムゾーンの変更（Ubuntu)\n",
    "sudo timedatect　l set-timezone Asia/Tokyo"
   ]
  }
 ],
 "metadata": {
  "kernelspec": {
   "display_name": "Python 3",
   "language": "python",
   "name": "python3"
  },
  "language_info": {
   "codemirror_mode": {
    "name": "ipython",
    "version": 3
   },
   "file_extension": ".py",
   "mimetype": "text/x-python",
   "name": "python",
   "nbconvert_exporter": "python",
   "pygments_lexer": "ipython3",
   "version": "3.6.5"
  }
 },
 "nbformat": 4,
 "nbformat_minor": 2
}
